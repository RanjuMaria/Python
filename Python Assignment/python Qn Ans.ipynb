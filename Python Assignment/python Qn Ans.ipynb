{
 "cells": [
  {
   "cell_type": "code",
   "execution_count": 1,
   "id": "37a434d6",
   "metadata": {},
   "outputs": [
    {
     "name": "stdout",
     "output_type": "stream",
     "text": [
      "Enter a word:Naan\n",
      "True\n"
     ]
    }
   ],
   "source": [
    "def palindrome(string):\n",
    "    string = string.lower()\n",
    "    return string == string[::-1]\n",
    "string = input('Enter a word:')\n",
    "ans = palindrome(string)\n",
    "if ans:\n",
    "    print('True')\n",
    "else:\n",
    "    print('False')"
   ]
  },
  {
   "cell_type": "code",
   "execution_count": 2,
   "id": "66339481",
   "metadata": {},
   "outputs": [
    {
     "name": "stdout",
     "output_type": "stream",
     "text": [
      "Enter a string: abcdcdc\n",
      "Enter a substring: cd\n",
      "2\n"
     ]
    }
   ],
   "source": [
    "def count_substring(string, substring):\n",
    "    count = 0\n",
    "    leng = len(string)\n",
    "    sleng = len(substring)\n",
    "    x = leng - sleng\n",
    "    for i in range(x+1):\n",
    "        if string[i:i+sleng] == substring:\n",
    "            count += 1\n",
    "    return count\n",
    "string = input(\"Enter a string: \")\n",
    "substring = input(\"Enter a substring: \")\n",
    "print(count_substring(string, substring))"
   ]
  },
  {
   "cell_type": "code",
   "execution_count": 3,
   "id": "5b2805cd",
   "metadata": {},
   "outputs": [
    {
     "name": "stdout",
     "output_type": "stream",
     "text": [
      "Player 1, Enter your choice (R/P/S): p\n",
      "Player 2, Enter your choice (R/P/S): s\n",
      "Round 1: Player 2 wins\n",
      "Player 1, Enter your choice (R/P/S): r\n",
      "Player 2, Enter your choice (R/P/S): s\n",
      "Round 2: Player 1 wins\n",
      "Player 1, Enter your choice (R/P/S): p\n",
      "Player 2, Enter your choice (R/P/S): r\n",
      "Round 3: Player 1 wins\n",
      "Player 1, Enter your choice (R/P/S): s\n",
      "Player 2, Enter your choice (R/P/S): p\n",
      "Round 4: Player 1 wins\n",
      "Player 1, Enter your choice (R/P/S): r\n",
      "Player 2, Enter your choice (R/P/S): s\n",
      "Round 5: Player 1 wins\n",
      "Player 1, Enter your choice (R/P/S): p\n",
      "Player 2, Enter your choice (R/P/S): r\n",
      "Round 6: Player 1 wins\n",
      "Player 1, Enter your choice (R/P/S): r\n",
      "Player 2, Enter your choice (R/P/S): p\n",
      "Round 7: Player 2 wins\n",
      "Player 1, Enter your choice (R/P/S): p\n",
      "Player 2, Enter your choice (R/P/S): s\n",
      "Round 8: Player 2 wins\n",
      "Player 1, Enter your choice (R/P/S): s\n",
      "Player 2, Enter your choice (R/P/S): p\n",
      "Round 9: Player 1 wins\n",
      "Player 1, Enter your choice (R/P/S): r\n",
      "Player 2, Enter your choice (R/P/S): p\n",
      "Round 10: Player 2 wins\n",
      "\n",
      "Final Score:\n",
      "Player 1: 6 wins\n",
      "Player 2: 4 wins\n",
      "Final Winner: Player 1\n"
     ]
    }
   ],
   "source": [
    "import random\n",
    "\n",
    "def play_round(player1, player2):\n",
    "    if player1 == player2:\n",
    "        return \"Draw\"\n",
    "    elif player1 == 'R':\n",
    "        return \"Player 1 wins\" if player2 == 'S' else \"Player 2 wins\"\n",
    "    elif player1 == 'P':\n",
    "        return \"Player 1 wins\" if player2 == 'R' else \"Player 2 wins\"\n",
    "    elif player1 == 'S':\n",
    "        return \"Player 1 wins\" if player2 == 'P' else \"Player 2 wins\"\n",
    "\n",
    "def main():\n",
    "    wins_player1 = 0\n",
    "    wins_player2 = 0\n",
    "\n",
    "    for round in range(10):\n",
    "        player1 = input(\"Player 1, Enter your choice (R/P/S): \").upper()\n",
    "        player2 = input(\"Player 2, Enter your choice (R/P/S): \").upper()\n",
    "\n",
    "        result = play_round(player1, player2)\n",
    "        print(f\"Round {round+1}: {result}\")\n",
    "\n",
    "        if result == \"Player 1 wins\":\n",
    "            wins_player1 += 1\n",
    "        elif result == \"Player 2 wins\":\n",
    "            wins_player2 += 1\n",
    "\n",
    "    print(\"\\nFinal Score:\")\n",
    "    print(f\"Player 1: {wins_player1} wins\")\n",
    "    print(f\"Player 2: {wins_player2} wins\")\n",
    "\n",
    "    if wins_player1 > wins_player2:\n",
    "        print(\"Final Winner: Player 1\")\n",
    "    elif wins_player2 > wins_player1:\n",
    "        print(\"Final Winner: Player 2\")\n",
    "    else:\n",
    "        print(\"It's a draw!\")\n",
    "\n",
    "if __name__ == \"__main__\":\n",
    "    main()"
   ]
  },
  {
   "cell_type": "code",
   "execution_count": 4,
   "id": "6123f066",
   "metadata": {},
   "outputs": [
    {
     "name": "stdout",
     "output_type": "stream",
     "text": [
      "Highest price: 72996.4693\n",
      "Lowest Price: 72844.6103\n"
     ]
    }
   ],
   "source": [
    "import requests\n",
    "import time\n",
    "\n",
    "highest_price = None \n",
    "lowest_price = None\n",
    "\n",
    "for _ in range(2):\n",
    "    answer = requests.get(\"https://api.coindesk.com/v1/bpi/currentprice.json\")\n",
    "    df = answer.json()\n",
    "    \n",
    "    price_usd = float(df['bpi']['USD']['rate_float'])\n",
    "    \n",
    "    if highest_price is None or price_usd > highest_price:\n",
    "        highest_price = price_usd\n",
    "    if lowest_price is None or price_usd < lowest_price:\n",
    "        lowest_price = price_usd\n",
    "        \n",
    "    time.sleep(300) \n",
    "    \n",
    "print(f\"Highest price: {highest_price}\")\n",
    "print(f\"Lowest Price: {lowest_price}\")  \n",
    "\n",
    "# Here i have tested the code for a 10 minute time duration"
   ]
  },
  {
   "cell_type": "code",
   "execution_count": null,
   "id": "9e653303",
   "metadata": {},
   "outputs": [],
   "source": [
    "import requests\n",
    "import time\n",
    "\n",
    "highest_price = None\n",
    "lowest_price = None\n",
    "\n",
    "for _ in range(288):\n",
    "    answer = requests.get(\"https://api.coindesk.com/v1/bpi/currentprice.json\")\n",
    "    df = answer.json()\n",
    "    \n",
    "    price_usd = float(df['bpi']['USD']['rate_float'])\n",
    "    \n",
    "    if highest_price is None or price_usd > highest_price:\n",
    "        highest_price = price_usd\n",
    "    if lowest_price is None or price_usd < lowest_price:\n",
    "        lowest_price = price_usd\n",
    "        \n",
    "    time.sleep(300)\n",
    "    \n",
    "print(f\"Highest price: {highest_price}\")\n",
    "print(f\"Lowest Price: {lowest_price}\")  "
   ]
  }
 ],
 "metadata": {
  "kernelspec": {
   "display_name": "Python 3 (ipykernel)",
   "language": "python",
   "name": "python3"
  },
  "language_info": {
   "codemirror_mode": {
    "name": "ipython",
    "version": 3
   },
   "file_extension": ".py",
   "mimetype": "text/x-python",
   "name": "python",
   "nbconvert_exporter": "python",
   "pygments_lexer": "ipython3",
   "version": "3.11.5"
  }
 },
 "nbformat": 4,
 "nbformat_minor": 5
}
